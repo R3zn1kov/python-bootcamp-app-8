{
 "cells": [
  {
   "cell_type": "markdown",
   "id": "40215e26-7c40-4b7d-82c4-391eae707cfa",
   "metadata": {},
   "source": [
    "# Loading the book"
   ]
  },
  {
   "cell_type": "code",
   "execution_count": 10,
   "id": "15440dfc-76c3-47e7-9eaf-0ebc7103ee8e",
   "metadata": {
    "tags": []
   },
   "outputs": [],
   "source": [
    "with open(\"miracle_in_the_andes.txt\", \"r\", encoding= \"utf8\") as file:\n",
    "    book = file.read()"
   ]
  },
  {
   "cell_type": "markdown",
   "id": "5a67f330-e8e8-415c-9ff7-4be187f03a12",
   "metadata": {},
   "source": [
    "## Most used words (non-articles)"
   ]
  },
  {
   "cell_type": "code",
   "execution_count": 12,
   "id": "eb8c4cb8-cdb7-4dde-811e-fc8695e89566",
   "metadata": {
    "tags": []
   },
   "outputs": [
    {
     "data": {
      "text/plain": [
       "['chapter', 'before', 'it', 'was', 'friday']"
      ]
     },
     "execution_count": 12,
     "metadata": {},
     "output_type": "execute_result"
    }
   ],
   "source": [
    "import re\n",
    "pattern = re.compile (\"[a-zA-Z]+\")\n",
    "findings = re.findall(pattern, book.lower())\n",
    "findings[:5]"
   ]
  },
  {
   "cell_type": "code",
   "execution_count": 13,
   "id": "c821af98-4879-4e02-891d-aa496275111b",
   "metadata": {
    "tags": []
   },
   "outputs": [],
   "source": [
    "d = {}\n",
    "for word in findings:\n",
    "    if word in d.keys():\n",
    "        d[word] = d[word] + 1\n",
    "    else:\n",
    "            d[word] = 1"
   ]
  },
  {
   "cell_type": "code",
   "execution_count": 17,
   "id": "7042889d-141a-45ec-99ab-2f89991f30e1",
   "metadata": {
    "tags": []
   },
   "outputs": [
    {
     "data": {
      "text/plain": [
       "[(5346, 'the'), (2795, 'and'), (2729, 'i'), (2400, 'to'), (2060, 'of')]"
      ]
     },
     "execution_count": 17,
     "metadata": {},
     "output_type": "execute_result"
    }
   ],
   "source": [
    "d_list = [(value, key) for (key, value) in d.items()]\n",
    "d_list = sorted(d_list, reverse =True)\n",
    "d_list [:5]"
   ]
  },
  {
   "cell_type": "code",
   "execution_count": 23,
   "id": "d54f2233-ebc1-4413-80ce-cbd1d59f793c",
   "metadata": {
    "tags": []
   },
   "outputs": [
    {
     "name": "stderr",
     "output_type": "stream",
     "text": [
      "[nltk_data] Downloading package stopwords to\n",
      "[nltk_data]     C:\\Users\\ldlre\\AppData\\Roaming\\nltk_data...\n",
      "[nltk_data]   Unzipping corpora\\stopwords.zip.\n"
     ]
    }
   ],
   "source": [
    "import nltk\n",
    "nltk.download('stopwords')\n",
    "\n",
    "from nltk.corpus import stopwords\n",
    "english_stopwords = stopwords.words(\"english\")"
   ]
  },
  {
   "cell_type": "code",
   "execution_count": null,
   "id": "18fe4eb7-cb92-47bf-83d9-58371aa7ccf0",
   "metadata": {
    "tags": []
   },
   "outputs": [],
   "source": [
    "filtered_words = []\n",
    "for count, word in d_list:\n",
    "    if word not in english_stopwords:\n",
    "        filtered_words.append((word, count))"
   ]
  },
  {
   "cell_type": "markdown",
   "id": "92f9f8ad-44c4-4a25-a3dc-e7f19cbfde8d",
   "metadata": {
    "tags": []
   },
   "source": [
    " # Sentiment Analysis"
   ]
  },
  {
   "cell_type": "markdown",
   "id": "5f2de2cd-be24-4c97-b441-9cb9530ce029",
   "metadata": {},
   "source": [
    "## (Example)"
   ]
  },
  {
   "cell_type": "code",
   "execution_count": 38,
   "id": "c2f3e9ad-1143-4994-9874-d13ba8dff676",
   "metadata": {
    "tags": []
   },
   "outputs": [
    {
     "name": "stderr",
     "output_type": "stream",
     "text": [
      "[nltk_data] Downloading package vader_lexicon to\n",
      "[nltk_data]     C:\\Users\\ldlre\\AppData\\Roaming\\nltk_data...\n"
     ]
    },
    {
     "data": {
      "text/plain": [
       "True"
      ]
     },
     "execution_count": 38,
     "metadata": {},
     "output_type": "execute_result"
    }
   ],
   "source": [
    "import nltk\n",
    "nltk.download('vader_lexicon')\n"
   ]
  },
  {
   "cell_type": "code",
   "execution_count": 39,
   "id": "24f7ff77-b509-40a0-88c8-b250425d46fd",
   "metadata": {
    "tags": []
   },
   "outputs": [],
   "source": [
    "from nltk.sentiment import SentimentIntensityAnalyzer"
   ]
  },
  {
   "cell_type": "code",
   "execution_count": 40,
   "id": "4e450593-c54d-491e-8cf9-2255de834d43",
   "metadata": {
    "tags": []
   },
   "outputs": [],
   "source": [
    "analyzer = SentimentIntensityAnalyzer()"
   ]
  },
  {
   "cell_type": "code",
   "execution_count": 47,
   "id": "e26daa21-5eb0-4e65-8128-6ef7700a7a32",
   "metadata": {
    "tags": []
   },
   "outputs": [],
   "source": [
    "scores = analyzer.polarity_scores(\"Hey, look how beautiful the trees are. I  really love it.\")"
   ]
  },
  {
   "cell_type": "code",
   "execution_count": 48,
   "id": "ca9f690e-6c78-4a40-b6c7-578501e55231",
   "metadata": {
    "tags": []
   },
   "outputs": [
    {
     "name": "stdout",
     "output_type": "stream",
     "text": [
      " Positive text\n"
     ]
    }
   ],
   "source": [
    "if scores [\"pos\"] > scores[\"neg\"]:\n",
    "    print (\" Positive text\")\n",
    "else:\n",
    "    print(\"It is a negative text\")"
   ]
  },
  {
   "cell_type": "markdown",
   "id": "9207f9b5-c8b4-4586-9209-cfc8ffa48ab3",
   "metadata": {},
   "source": [
    "#### Chapter sentiment analysis"
   ]
  },
  {
   "cell_type": "code",
   "execution_count": 52,
   "id": "889e4187-75a0-4688-8075-fb00ab9d9bbf",
   "metadata": {
    "tags": []
   },
   "outputs": [],
   "source": [
    "import re\n",
    "pattern = re.compile(\" Chapter [0-9]+\")\n",
    "chapters = re.split(pattern, book)"
   ]
  },
  {
   "cell_type": "code",
   "execution_count": 53,
   "id": "5ceaf163-54f0-47bc-8882-684a3c49c4f1",
   "metadata": {
    "tags": []
   },
   "outputs": [],
   "source": [
    "chapters = chapters[1:]"
   ]
  },
  {
   "cell_type": "code",
   "execution_count": 81,
   "id": "61b65d7f-f4fc-4a56-83d5-8ea58c6d918a",
   "metadata": {
    "tags": []
   },
   "outputs": [],
   "source": [
    "for nr, chapter in chapters:\n",
    "    scores = analyzer.polarity_scores(chapter)\n",
    "    print(nr +1, scores)"
   ]
  }
 ],
 "metadata": {
  "kernelspec": {
   "display_name": "Python 3 (ipykernel)",
   "language": "python",
   "name": "python3"
  },
  "language_info": {
   "codemirror_mode": {
    "name": "ipython",
    "version": 3
   },
   "file_extension": ".py",
   "mimetype": "text/x-python",
   "name": "python",
   "nbconvert_exporter": "python",
   "pygments_lexer": "ipython3",
   "version": "3.11.5"
  }
 },
 "nbformat": 4,
 "nbformat_minor": 5
}
